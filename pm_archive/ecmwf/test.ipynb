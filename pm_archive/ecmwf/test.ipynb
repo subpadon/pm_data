{
 "cells": [
  {
   "cell_type": "code",
   "execution_count": null,
   "metadata": {},
   "outputs": [],
   "source": [
    "#!/usr/bin/env python\n",
    "from ecmwfapi import ECMWFDataServer\n",
    "   \n",
    "server = ECMWFDataServer()\n",
    "server.retrieve({\n",
    "    \"class\": \"mc\",\n",
    "    \"dataset\": \"cams_reanalysis\",\n",
    "    \"expver\": \"eac4\",\n",
    "    \"stream\": \"oper\",\n",
    "    \"type\": \"an\",\n",
    "    \"levtype\": \"sfc\",\n",
    "    \"param\": \"167.128\",\n",
    "    \"date\": \"2003-12-01\",\n",
    "    \"time\": \"00:00:00/03:00:00\",\n",
    "    \"grid\": \"1.0/1.0\",\n",
    "    \"area\": \"75/-20/10/60\",\n",
    "    \"format\": \"netcdf\",\n",
    "    \"target\": \"test.nc\"\n",
    " })"
   ]
  }
 ],
 "metadata": {
  "kernelspec": {
   "display_name": "Python 3",
   "language": "python",
   "name": "python3"
  },
  "language_info": {
   "codemirror_mode": {
    "name": "ipython",
    "version": 3
   },
   "file_extension": ".py",
   "mimetype": "text/x-python",
   "name": "python",
   "nbconvert_exporter": "python",
   "pygments_lexer": "ipython3",
   "version": "3.7.3"
  }
 },
 "nbformat": 4,
 "nbformat_minor": 2
}
